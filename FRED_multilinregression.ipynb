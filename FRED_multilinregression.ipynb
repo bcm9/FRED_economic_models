{
 "cells": [
  {
   "cell_type": "code",
   "execution_count": 1,
   "id": "e345532e",
   "metadata": {},
   "outputs": [],
   "source": [
    "################################################################################################################################################\n",
    "# Modeling gross private domestic investment (GPDI) from Federal Reserve Economic Datasets:\n",
    "# Multiple linear regression\n",
    "################################################################################################################################################\n",
    "# import libraries\n",
    "import glob\n",
    "import os\n",
    "import numpy as np\n",
    "import pandas as pd\n",
    "import statsmodels.api as sm\n",
    "import matplotlib.pyplot as plt\n",
    "import seaborn as sns\n",
    "import pmdarima as pm"
   ]
  },
  {
   "cell_type": "code",
   "execution_count": 2,
   "id": "c39078e0",
   "metadata": {},
   "outputs": [
    {
     "name": "stdout",
     "output_type": "stream",
     "text": [
      "['C:/Users/bcm9/Documents/Py_code/Data/FRED\\\\BOPGSTB.xls', 'C:/Users/bcm9/Documents/Py_code/Data/FRED\\\\CPALTT01USM657N.xls', 'C:/Users/bcm9/Documents/Py_code/Data/FRED\\\\GDPC1.xls', 'C:/Users/bcm9/Documents/Py_code/Data/FRED\\\\GPDI.xls', 'C:/Users/bcm9/Documents/Py_code/Data/FRED\\\\PCECC96.xls', 'C:/Users/bcm9/Documents/Py_code/Data/FRED\\\\UNRATE.xls']\n"
     ]
    }
   ],
   "source": [
    "########################################################################\n",
    "# pre-processing: read in all files into dfs within a dict, clean and plot\n",
    "########################################################################\n",
    "folder=\"C:/Users/bcm9/Documents/Py_code/Data/FRED/\"\n",
    "filelist = glob.glob(os.path.join(folder, \"*.xls\"))\n",
    "print(filelist)"
   ]
  },
  {
   "cell_type": "code",
   "execution_count": 3,
   "id": "d364203e",
   "metadata": {},
   "outputs": [],
   "source": [
    "# create empty dictionary \n",
    "df_dict = {}\n",
    "\n",
    "# append datasets into the list\n",
    "for file in filelist:\n",
    "    df = pd.read_excel(file)\n",
    "    # get the name of the csv without the '.csv' extension\n",
    "    filename = os.path.splitext(os.path.basename(file))[0]\n",
    "    df_dict[filename] = df"
   ]
  },
  {
   "cell_type": "code",
   "execution_count": 4,
   "id": "f30209f8",
   "metadata": {},
   "outputs": [],
   "source": [
    "for key in df_dict.keys():\n",
    "    df = df_dict[key]\n",
    "    df = df.loc[10:, :].copy()\n",
    "    df['date'] = pd.to_datetime(df['FRED Graph Observations'])\n",
    "    df_dict[key] = df"
   ]
  },
  {
   "cell_type": "code",
   "execution_count": 5,
   "id": "15a81c47",
   "metadata": {},
   "outputs": [],
   "source": [
    "# drop all original date format from df and rename columns for later identification\n",
    "for key in df_dict.keys():\n",
    "    df_dict[key] = df_dict[key].drop('FRED Graph Observations', axis=1)\n",
    "    df_dict[key]=df_dict[key].rename(columns={\"Unnamed: 1\": key})"
   ]
  },
  {
   "cell_type": "code",
   "execution_count": 6,
   "id": "a93e35dc",
   "metadata": {},
   "outputs": [],
   "source": [
    "########################################################################\n",
    "# model pre-processing\n",
    "########################################################################\n",
    "# merge data, join based on date\n",
    "df = df_dict['GPDI'].merge(df_dict['UNRATE'], on='date')\n",
    "df = df.merge(df_dict['PCECC96'], on='date')\n",
    "df = df.merge(df_dict['GDPC1'], on='date')\n",
    "df = df.merge(df_dict['CPALTT01USM657N'], on='date')\n",
    "df = df.merge(df_dict['BOPGSTB'], on='date')\n",
    "\n",
    "# drop rows with missing values\n",
    "df = df.dropna()\n",
    "\n",
    "# replace missing values with 0\n",
    "if df.isna().any().any():\n",
    "    df = df.fillna(0) \n",
    "\n",
    "# make types float64    \n",
    "df = df.astype({'UNRATE': 'float64', 'PCECC96': 'float64',\n",
    "                'GDPC1': 'float64', 'CPALTT01USM657N': 'float64',\n",
    "                'BOPGSTB': 'float64', 'GPDI': 'float64'})"
   ]
  },
  {
   "cell_type": "code",
   "execution_count": 7,
   "id": "4ba8e44d",
   "metadata": {},
   "outputs": [],
   "source": [
    "# set dependent and independent variables\n",
    "y = df['GPDI']\n",
    "X = df[['UNRATE', 'PCECC96', 'GDPC1', 'CPALTT01USM657N', 'BOPGSTB']]"
   ]
  },
  {
   "cell_type": "code",
   "execution_count": 8,
   "id": "3a2f7f8d",
   "metadata": {},
   "outputs": [],
   "source": [
    "# standardize data\n",
    "# calculate mean and standard deviation of each column\n",
    "X_mean = np.mean(X, axis=0)\n",
    "X_std = np.std(X, axis=0)\n",
    "\n",
    "# standardize the data\n",
    "X_stdized = (X - X_mean) / X_std"
   ]
  },
  {
   "cell_type": "code",
   "execution_count": 9,
   "id": "5c4311ee",
   "metadata": {},
   "outputs": [
    {
     "name": "stdout",
     "output_type": "stream",
     "text": [
      "                            OLS Regression Results                            \n",
      "==============================================================================\n",
      "Dep. Variable:                   GPDI   R-squared:                       0.959\n",
      "Model:                            OLS   Adj. R-squared:                  0.957\n",
      "Method:                 Least Squares   F-statistic:                     550.2\n",
      "Date:                Mon, 27 Feb 2023   Prob (F-statistic):           5.69e-80\n",
      "Time:                        23:24:32   Log-Likelihood:                -822.78\n",
      "No. Observations:                 124   AIC:                             1658.\n",
      "Df Residuals:                     118   BIC:                             1674.\n",
      "Df Model:                           5                                         \n",
      "Covariance Type:            nonrobust                                         \n",
      "===================================================================================\n",
      "                      coef    std err          t      P>|t|      [0.025      0.975]\n",
      "-----------------------------------------------------------------------------------\n",
      "const            2468.6402     16.964    145.524      0.000    2435.047    2502.233\n",
      "UNRATE           -143.4592     18.132     -7.912      0.000    -179.365    -107.553\n",
      "PCECC96             1.6477    433.845      0.004      0.997    -857.484     860.780\n",
      "GDPC1             856.0680    426.276      2.008      0.047      11.925    1700.211\n",
      "CPALTT01USM657N    21.2050     17.882      1.186      0.238     -14.207      56.617\n",
      "BOPGSTB            -7.7400     32.716     -0.237      0.813     -72.527      57.047\n",
      "==============================================================================\n",
      "Omnibus:                       26.352   Durbin-Watson:                   0.287\n",
      "Prob(Omnibus):                  0.000   Jarque-Bera (JB):               43.998\n",
      "Skew:                           0.977   Prob(JB):                     2.79e-10\n",
      "Kurtosis:                       5.167   Cond. No.                         60.0\n",
      "==============================================================================\n",
      "\n",
      "Notes:\n",
      "[1] Standard Errors assume that the covariance matrix of the errors is correctly specified.\n"
     ]
    }
   ],
   "source": [
    "########################################################################\n",
    "# fit linear regression model and print\n",
    "########################################################################\n",
    "model = sm.OLS(y, sm.add_constant(X_stdized)).fit()\n",
    "print(model.summary())"
   ]
  },
  {
   "cell_type": "code",
   "execution_count": 10,
   "id": "fd1b8602",
   "metadata": {},
   "outputs": [
    {
     "data": {
      "image/png": "[encoded data removed]",
      "text/plain": [
       "<Figure size 700x300 with 1 Axes>"
      ]
     },
     "metadata": {},
     "output_type": "display_data"
    }
   ],
   "source": [
    "# get coefficients\n",
    "params = model.params\n",
    "intercept = params[0]\n",
    "coef = params[1:]\n",
    "\n",
    "# get names of the independent variables\n",
    "labels = list(coef.index)\n",
    "\n",
    "# create bar chart using seaborn\n",
    "fig, ax = plt.subplots(figsize=(7, 3))\n",
    "sns.barplot(x=coef.values, y=labels, ax=ax, color='blue')\n",
    "\n",
    "# formatting\n",
    "ax.set_xlabel('Coefficient Estimate', fontsize=12)\n",
    "ax.set_ylabel('Independent Variables', fontsize=12)\n",
    "ax.set_title('Linear Regression Coefficients for GDPI Model', fontsize=14)\n",
    "plt.tight_layout()\n",
    "plt.show()"
   ]
  },
  {
   "cell_type": "code",
   "execution_count": 11,
   "id": "07bd7805",
   "metadata": {},
   "outputs": [
    {
     "name": "stdout",
     "output_type": "stream",
     "text": [
      "[4114.15011693]\n"
     ]
    }
   ],
   "source": [
    "########################################################################\n",
    "# Predict GPDI with new IV values using linear regression model\n",
    "########################################################################\n",
    "UNRATE = 5.0\n",
    "PCECC96 = 10000\n",
    "GDPC1 = 20000\n",
    "CPALTT01USM657N = 2.0\n",
    "BOPGSTB = -5000\n",
    "\n",
    "X_mean = X.mean(axis=0)\n",
    "X_std = X.std(axis=0)\n",
    "X_mean = X_mean.to_numpy().reshape(1, -1)\n",
    "X_std = X_std.to_numpy().reshape(1, -1)\n",
    "\n",
    "# Create a new observation array with the independent variable values\n",
    "new_obs = np.array([[UNRATE, PCECC96, GDPC1, CPALTT01USM657N, BOPGSTB]])\n",
    "\n",
    "# Standardize using the mean and standard deviation of the training data\n",
    "new_obs = (new_obs - X_mean) / X_std\n",
    "\n",
    "# Predict GPDI for the new observation using the trained model\n",
    "predicted_GPDI = np.dot(new_obs, coef.T) + intercept\n",
    "\n",
    "print(predicted_GPDI)"
   ]
  }
 ],
 "metadata": {
  "kernelspec": {
   "display_name": "Python 3 (ipykernel)",
   "language": "python",
   "name": "python3"
  },
  "language_info": {
   "codemirror_mode": {
    "name": "ipython",
    "version": 3
   },
   "file_extension": ".py",
   "mimetype": "text/x-python",
   "name": "python",
   "nbconvert_exporter": "python",
   "pygments_lexer": "ipython3",
   "version": "3.9.13"
  }
 },
 "nbformat": 4,
 "nbformat_minor": 5
}
